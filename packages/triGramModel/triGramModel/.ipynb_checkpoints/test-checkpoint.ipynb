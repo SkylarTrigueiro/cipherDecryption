{
 "cells": [
  {
   "cell_type": "code",
   "execution_count": 1,
   "metadata": {},
   "outputs": [],
   "source": [
    "from triGramModel.config import config\n",
    "from triGramModel.processing import data_management as dm\n",
    "from triGramModel import model as m\n",
    "\n",
    "import pickle"
   ]
  },
  {
   "cell_type": "code",
   "execution_count": 2,
   "metadata": {},
   "outputs": [],
   "source": [
    "true_map_loc_name = config.TRAINED_MODEL_DIR / config.TRUE_MAP_FILE_NAME\n",
    "with open( true_map_loc_name, 'rb') as f:\n",
    "\ttrue_map = pickle.load(f)"
   ]
  },
  {
   "cell_type": "code",
   "execution_count": null,
   "metadata": {},
   "outputs": [],
   "source": [
    "best_map_loc_name = config.TRAINED_MODEL_DIR / config.BEST_MAP_FILE_NAME\n",
    "with open( best_map_loc_name, 'rb') as f:\n",
    "\tbest_map = pickle.load(f)\n"
   ]
  }
 ],
 "metadata": {
  "kernelspec": {
   "display_name": "Python 3",
   "language": "python",
   "name": "python3"
  },
  "language_info": {
   "codemirror_mode": {
    "name": "ipython",
    "version": 3
   },
   "file_extension": ".py",
   "mimetype": "text/x-python",
   "name": "python",
   "nbconvert_exporter": "python",
   "pygments_lexer": "ipython3",
   "version": "3.7.7"
  }
 },
 "nbformat": 4,
 "nbformat_minor": 4
}
