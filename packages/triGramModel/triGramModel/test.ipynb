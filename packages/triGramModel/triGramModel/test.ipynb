{
 "cells": [
  {
   "cell_type": "code",
   "execution_count": 1,
   "metadata": {},
   "outputs": [],
   "source": [
    "from triGramModel.config import config\n",
    "from triGramModel.processing import data_management as dm\n",
    "from triGramModel import model as m\n",
    "\n",
    "import pickle"
   ]
  },
  {
   "cell_type": "code",
   "execution_count": 2,
   "metadata": {},
   "outputs": [],
   "source": [
    "true_map_loc_name = config.TRAINED_MODEL_DIR / config.TRUE_MAP_FILE_NAME\n",
    "with open( true_map_loc_name, 'rb') as f:\n",
    "\ttrue_map = pickle.load(f)"
   ]
  },
  {
   "cell_type": "code",
   "execution_count": 3,
   "metadata": {},
   "outputs": [],
   "source": [
    "best_map_loc_name = config.TRAINED_MODEL_DIR / config.BEST_MAP_FILE_NAME\n",
    "with open( best_map_loc_name, 'rb') as f:\n",
    "\tbest_map = pickle.load(f)"
   ]
  },
  {
   "cell_type": "code",
   "execution_count": 4,
   "metadata": {},
   "outputs": [
    {
     "data": {
      "text/plain": [
       "{'a': 'c',\n",
       " 'b': 'p',\n",
       " 'c': 's',\n",
       " 'd': 'z',\n",
       " 'e': 'q',\n",
       " 'f': 'r',\n",
       " 'g': 't',\n",
       " 'h': 'l',\n",
       " 'i': 'e',\n",
       " 'j': 'u',\n",
       " 'k': 'i',\n",
       " 'l': 'v',\n",
       " 'm': 'n',\n",
       " 'n': 'm',\n",
       " 'o': 'o',\n",
       " 'p': 'd',\n",
       " 'q': 'a',\n",
       " 'r': 'j',\n",
       " 's': 'x',\n",
       " 't': 'f',\n",
       " 'u': 'h',\n",
       " 'v': 'b',\n",
       " 'w': 'g',\n",
       " 'x': 'k',\n",
       " 'y': 'y',\n",
       " 'z': 'w'}"
      ]
     },
     "execution_count": 4,
     "metadata": {},
     "output_type": "execute_result"
    }
   ],
   "source": [
    "true_map"
   ]
  },
  {
   "cell_type": "code",
   "execution_count": 5,
   "metadata": {},
   "outputs": [
    {
     "data": {
      "text/plain": [
       "{'a': 'a',\n",
       " 'b': 'b',\n",
       " 'c': 'c',\n",
       " 'd': 'd',\n",
       " 'e': 'e',\n",
       " 'f': 'f',\n",
       " 'g': 'g',\n",
       " 'h': 'h',\n",
       " 'i': 'i',\n",
       " 'j': 'j',\n",
       " 'k': 'k',\n",
       " 'l': 'l',\n",
       " 'm': 'm',\n",
       " 'n': 'n',\n",
       " 'o': 'o',\n",
       " 'p': 'p',\n",
       " 'q': 'q',\n",
       " 'r': 'r',\n",
       " 's': 's',\n",
       " 't': 't',\n",
       " 'u': 'u',\n",
       " 'v': 'v',\n",
       " 'w': 'w',\n",
       " 'x': 'x',\n",
       " 'y': 'y',\n",
       " 'z': 'z'}"
      ]
     },
     "execution_count": 5,
     "metadata": {},
     "output_type": "execute_result"
    }
   ],
   "source": [
    "best_map"
   ]
  },
  {
   "cell_type": "code",
   "execution_count": null,
   "metadata": {},
   "outputs": [],
   "source": []
  }
 ],
 "metadata": {
  "kernelspec": {
   "display_name": "Python 3",
   "language": "python",
   "name": "python3"
  },
  "language_info": {
   "codemirror_mode": {
    "name": "ipython",
    "version": 3
   },
   "file_extension": ".py",
   "mimetype": "text/x-python",
   "name": "python",
   "nbconvert_exporter": "python",
   "pygments_lexer": "ipython3",
   "version": "3.7.7"
  }
 },
 "nbformat": 4,
 "nbformat_minor": 4
}
